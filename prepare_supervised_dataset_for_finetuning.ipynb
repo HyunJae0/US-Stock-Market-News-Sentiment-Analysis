{
 "cells": [
  {
   "metadata": {
    "ExecuteTime": {
     "end_time": "2025-08-11T06:50:28.373369Z",
     "start_time": "2025-08-11T06:50:28.115959Z"
    }
   },
   "cell_type": "code",
   "source": [
    "from datasets import load_dataset, load_from_disk, DatasetDict\n",
    "from transformers import AutoTokenizer\n",
    "from huggingface_hub import create_repo\n",
    "import os\n",
    "import re\n",
    "\n",
    "current_directory = os.getcwd()"
   ],
   "id": "e278ec4016148f8a",
   "outputs": [],
   "execution_count": 95
  },
  {
   "metadata": {
    "ExecuteTime": {
     "end_time": "2025-08-11T06:50:29.143156Z",
     "start_time": "2025-08-11T06:50:28.380495Z"
    }
   },
   "cell_type": "code",
   "source": "tokenizer = AutoTokenizer.from_pretrained(current_directory+'\\my_gpt2_tokenizer')",
   "id": "4fcb8631c5b56ce5",
   "outputs": [],
   "execution_count": 96
  },
  {
   "metadata": {
    "ExecuteTime": {
     "end_time": "2025-08-11T06:50:34.260106Z",
     "start_time": "2025-08-11T06:50:29.155121Z"
    }
   },
   "cell_type": "code",
   "source": "ds = load_dataset('ugursa/Yahoo-Finance-News-Sentences', split='train') # sentiment analysis # multiclass classification",
   "id": "initial_id",
   "outputs": [],
   "execution_count": 97
  },
  {
   "metadata": {
    "ExecuteTime": {
     "end_time": "2025-08-11T06:50:34.306929Z",
     "start_time": "2025-08-11T06:50:34.294937Z"
    }
   },
   "cell_type": "code",
   "source": [
    "def preprocessing_ds1_text(examples):\n",
    "    allowed_chars = r\"/.,:;’-+%$?!'\\\"\"\n",
    "    allowed_pattern = f'[^a-zA-Z0-9\\s{re.escape(allowed_chars)}]'\n",
    "\n",
    "    prefix = 'sentiment: '\n",
    "    label_map = {0: 'bullish', 1: 'neutral', 2: 'bearish'} # 0은 bullish(강세), 1은 neutral(중립), 2는 bearish(약세)\n",
    "\n",
    "    texts = []\n",
    "    labels = []\n",
    "\n",
    "    for text, label in zip(examples['text'], examples['label']):\n",
    "        text = text.lower()\n",
    "        text = re.sub(r'\\s*\\([^)]*\\)\\s*,?', '', text)\n",
    "        text = re.sub(r'-{2,}', ' ', text)\n",
    "        text = re.sub(r'\\.{2,}', ' ', text)\n",
    "        text = re.sub(allowed_pattern, ' ', text)\n",
    "        text = re.sub(r'\\s+', ' ', text).strip()\n",
    "\n",
    "        text = prefix + text\n",
    "\n",
    "        token_ids = tokenizer.encode(text, add_special_tokens=False)\n",
    "        if len(token_ids) <= 512:\n",
    "            texts.append(text)\n",
    "            labels.append(label_map[label])\n",
    "\n",
    "    return {'text':texts, 'labels':labels}"
   ],
   "id": "4b8fa05798cf88e3",
   "outputs": [],
   "execution_count": 98
  },
  {
   "metadata": {
    "ExecuteTime": {
     "end_time": "2025-08-11T06:50:34.511971Z",
     "start_time": "2025-08-11T06:50:34.314885Z"
    }
   },
   "cell_type": "code",
   "source": "ds = ds.map(preprocessing_ds1_text, batched=True, remove_columns=ds.column_names)",
   "id": "237cd774371ca9de",
   "outputs": [],
   "execution_count": 99
  },
  {
   "metadata": {
    "ExecuteTime": {
     "end_time": "2025-08-11T06:50:34.543790Z",
     "start_time": "2025-08-11T06:50:34.526836Z"
    }
   },
   "cell_type": "code",
   "source": "print(ds)",
   "id": "9b2ef8f5c5284d60",
   "outputs": [
    {
     "name": "stdout",
     "output_type": "stream",
     "text": [
      "Dataset({\n",
      "    features: ['text', 'labels'],\n",
      "    num_rows: 25032\n",
      "})\n"
     ]
    }
   ],
   "execution_count": 100
  },
  {
   "metadata": {
    "ExecuteTime": {
     "end_time": "2025-08-11T06:50:34.590665Z",
     "start_time": "2025-08-11T06:50:34.577700Z"
    }
   },
   "cell_type": "code",
   "source": [
    "def tokenize_function(examples):\n",
    "    text = tokenizer(examples['text'], max_length=512, truncation=True, padding='max_length', return_attention_mask=False)\n",
    "    labels = tokenizer(text_target=examples['labels'], max_length=2, padding='max_length', return_attention_mask=False)\n",
    "    examples['labels'] = labels['input_ids']\n",
    "    return {\n",
    "        'text': text['input_ids'],\n",
    "        'labels': labels['input_ids']\n",
    "    }"
   ],
   "id": "797f53d2195ed6e7",
   "outputs": [],
   "execution_count": 101
  },
  {
   "metadata": {
    "ExecuteTime": {
     "end_time": "2025-08-11T06:50:35.118116Z",
     "start_time": "2025-08-11T06:50:34.611609Z"
    }
   },
   "cell_type": "code",
   "source": "dataset = ds.map(tokenize_function, batched=True, remove_columns=['text'])",
   "id": "9b8dd6b00923d2a9",
   "outputs": [],
   "execution_count": 102
  },
  {
   "metadata": {
    "ExecuteTime": {
     "end_time": "2025-08-11T06:50:35.835063Z",
     "start_time": "2025-08-11T06:50:35.825090Z"
    }
   },
   "cell_type": "code",
   "source": "print(dataset)",
   "id": "12ed7579b216ca8",
   "outputs": [
    {
     "name": "stdout",
     "output_type": "stream",
     "text": [
      "Dataset({\n",
      "    features: ['text', 'labels'],\n",
      "    num_rows: 25032\n",
      "})\n"
     ]
    }
   ],
   "execution_count": 103
  },
  {
   "metadata": {},
   "cell_type": "code",
   "outputs": [],
   "execution_count": null,
   "source": [
    "def tokenize_function(examples):\n",
    "    text = tokenizer(examples['text'], max_length=512, truncation=True, padding='max_length', return_attention_mask=False)\n",
    "    labels = tokenizer(text_target=examples['labels'], max_length=2, padding='max_length', return_attention_mask=False)\n",
    "    examples['labels'] = labels['input_ids']\n",
    "    return {\n",
    "        'text': text['input_ids'],\n",
    "        'labels': labels['input_ids']\n",
    "    }"
   ],
   "id": "6c0e9dc27602d099"
  },
  {
   "metadata": {
    "ExecuteTime": {
     "end_time": "2025-08-11T06:51:10.805576Z",
     "start_time": "2025-08-11T06:51:10.705843Z"
    }
   },
   "cell_type": "code",
   "source": "ds['labels'][0], ds['labels'][4], ds['labels'][12]",
   "id": "cf054c631e13b8d6",
   "outputs": [
    {
     "data": {
      "text/plain": [
       "('bullish', 'neutral', 'bearish')"
      ]
     },
     "execution_count": 107,
     "metadata": {},
     "output_type": "execute_result"
    }
   ],
   "execution_count": 107
  },
  {
   "metadata": {
    "ExecuteTime": {
     "end_time": "2025-08-11T06:58:43.982450Z",
     "start_time": "2025-08-11T06:58:43.969486Z"
    }
   },
   "cell_type": "code",
   "source": [
    "def tokenize_function2(examples):\n",
    "    labels_map = {'bullish': 0, 'neutral': 1, 'bearish': 2}\n",
    "\n",
    "    text = tokenizer(examples['text'], max_length=512, truncation=True, padding='max_length', return_attention_mask=False)\n",
    "    text['labels'] = [labels_map[i] for i in examples['labels']]\n",
    "    return text"
   ],
   "id": "e08b70d443ea51bf",
   "outputs": [],
   "execution_count": 109
  },
  {
   "metadata": {
    "ExecuteTime": {
     "end_time": "2025-08-11T06:58:54.826737Z",
     "start_time": "2025-08-11T06:58:50.055054Z"
    }
   },
   "cell_type": "code",
   "source": "dataset2 = ds.map(tokenize_function2, batched=True, remove_columns=['text'])",
   "id": "d49d81a81bfb770e",
   "outputs": [
    {
     "data": {
      "text/plain": [
       "Map:   0%|          | 0/25032 [00:00<?, ? examples/s]"
      ],
      "application/vnd.jupyter.widget-view+json": {
       "version_major": 2,
       "version_minor": 0,
       "model_id": "6d36c49ba9804978bf6954a4c5dcdd32"
      }
     },
     "metadata": {},
     "output_type": "display_data"
    }
   ],
   "execution_count": 110
  },
  {
   "metadata": {
    "ExecuteTime": {
     "end_time": "2025-08-11T06:58:59.030533Z",
     "start_time": "2025-08-11T06:58:59.015573Z"
    }
   },
   "cell_type": "code",
   "source": "print(dataset2)",
   "id": "a59e64df1c73660",
   "outputs": [
    {
     "name": "stdout",
     "output_type": "stream",
     "text": [
      "Dataset({\n",
      "    features: ['labels', 'input_ids'],\n",
      "    num_rows: 25032\n",
      "})\n"
     ]
    }
   ],
   "execution_count": 111
  },
  {
   "metadata": {
    "ExecuteTime": {
     "end_time": "2025-08-11T06:59:27.095713Z",
     "start_time": "2025-08-11T06:59:26.909862Z"
    }
   },
   "cell_type": "code",
   "source": "print(ds['labels'][0]); print(dataset['labels'][0]); print(dataset2['labels'][0])",
   "id": "47b3e11cfdae54ab",
   "outputs": [
    {
     "name": "stdout",
     "output_type": "stream",
     "text": [
      "bullish\n",
      "[16308, 680]\n",
      "0\n"
     ]
    }
   ],
   "execution_count": 113
  },
  {
   "metadata": {
    "ExecuteTime": {
     "end_time": "2025-08-11T03:24:38.809843Z",
     "start_time": "2025-08-11T03:24:38.782916Z"
    }
   },
   "cell_type": "code",
   "source": [
    "  # split train 70%/valid 15%/test 15%\n",
    "train_test_valid = dataset.train_test_split(shuffle=True, seed=42, test_size=0.3)\n",
    "test_valid = train_test_valid['test'].train_test_split(shuffle=True, seed=42, test_size=0.50)\n",
    "\n",
    "dataset = DatasetDict({\n",
    "    'train': train_test_valid['train'],\n",
    "    'test': test_valid['test'],\n",
    "    'valid': test_valid['train']\n",
    "})"
   ],
   "id": "59211b426047f600",
   "outputs": [],
   "execution_count": 85
  },
  {
   "metadata": {
    "ExecuteTime": {
     "end_time": "2025-08-11T03:24:40.039244Z",
     "start_time": "2025-08-11T03:24:40.027275Z"
    }
   },
   "cell_type": "code",
   "source": "print(dataset)",
   "id": "51783f23410757f1",
   "outputs": [
    {
     "name": "stdout",
     "output_type": "stream",
     "text": [
      "DatasetDict({\n",
      "    train: Dataset({\n",
      "        features: ['text', 'labels'],\n",
      "        num_rows: 17522\n",
      "    })\n",
      "    test: Dataset({\n",
      "        features: ['text', 'labels'],\n",
      "        num_rows: 3755\n",
      "    })\n",
      "    valid: Dataset({\n",
      "        features: ['text', 'labels'],\n",
      "        num_rows: 3755\n",
      "    })\n",
      "})\n"
     ]
    }
   ],
   "execution_count": 86
  },
  {
   "metadata": {
    "ExecuteTime": {
     "end_time": "2025-08-11T03:25:00.191368Z",
     "start_time": "2025-08-11T03:24:59.784861Z"
    }
   },
   "cell_type": "code",
   "source": [
    "dataset.save_to_disk('token_ids_dataset_for_t5_finetuning')\n",
    "dataset = load_from_disk(current_directory+'\\\\token_ids_dataset_for_t5_finetuning')"
   ],
   "id": "7f835b8e90857433",
   "outputs": [
    {
     "data": {
      "text/plain": [
       "Saving the dataset (0/1 shards):   0%|          | 0/17522 [00:00<?, ? examples/s]"
      ],
      "application/vnd.jupyter.widget-view+json": {
       "version_major": 2,
       "version_minor": 0,
       "model_id": "49ad51d220fe42aaa579c7375edd5713"
      }
     },
     "metadata": {},
     "output_type": "display_data"
    },
    {
     "data": {
      "text/plain": [
       "Saving the dataset (0/1 shards):   0%|          | 0/3755 [00:00<?, ? examples/s]"
      ],
      "application/vnd.jupyter.widget-view+json": {
       "version_major": 2,
       "version_minor": 0,
       "model_id": "d0f2e6c9c0644ccd9be6551aa1badf9d"
      }
     },
     "metadata": {},
     "output_type": "display_data"
    },
    {
     "data": {
      "text/plain": [
       "Saving the dataset (0/1 shards):   0%|          | 0/3755 [00:00<?, ? examples/s]"
      ],
      "application/vnd.jupyter.widget-view+json": {
       "version_major": 2,
       "version_minor": 0,
       "model_id": "c947bb8f7ee2432a85396d11fc979e3d"
      }
     },
     "metadata": {},
     "output_type": "display_data"
    }
   ],
   "execution_count": 88
  },
  {
   "metadata": {
    "ExecuteTime": {
     "end_time": "2025-08-11T03:25:03.152225Z",
     "start_time": "2025-08-11T03:25:03.141254Z"
    }
   },
   "cell_type": "code",
   "source": "print(dataset)",
   "id": "75b1d5d5acb6aab5",
   "outputs": [
    {
     "name": "stdout",
     "output_type": "stream",
     "text": [
      "DatasetDict({\n",
      "    train: Dataset({\n",
      "        features: ['text', 'labels'],\n",
      "        num_rows: 17522\n",
      "    })\n",
      "    test: Dataset({\n",
      "        features: ['text', 'labels'],\n",
      "        num_rows: 3755\n",
      "    })\n",
      "    valid: Dataset({\n",
      "        features: ['text', 'labels'],\n",
      "        num_rows: 3755\n",
      "    })\n",
      "})\n"
     ]
    }
   ],
   "execution_count": 89
  },
  {
   "metadata": {
    "ExecuteTime": {
     "end_time": "2025-08-11T07:00:19.938534Z",
     "start_time": "2025-08-11T07:00:19.799038Z"
    }
   },
   "cell_type": "code",
   "source": [
    "train_test_valid = dataset2.train_test_split(shuffle=True, seed=42, test_size=0.3)\n",
    "test_valid = train_test_valid['test'].train_test_split(shuffle=True, seed=42, test_size=0.50)\n",
    "\n",
    "dataset2 = DatasetDict({\n",
    "    'train': train_test_valid['train'],\n",
    "    'test': test_valid['test'],\n",
    "    'valid': test_valid['train']\n",
    "})"
   ],
   "id": "f0162fce13f80933",
   "outputs": [],
   "execution_count": 115
  },
  {
   "metadata": {
    "ExecuteTime": {
     "end_time": "2025-08-11T07:00:51.453077Z",
     "start_time": "2025-08-11T07:00:51.298933Z"
    }
   },
   "cell_type": "code",
   "source": [
    "dataset.save_to_disk('token_ids_dataset_for_t5_finetuning2')\n",
    "dataset = load_from_disk(current_directory+'\\\\token_ids_dataset_for_t5_finetuning2')"
   ],
   "id": "84ab4abd5f04ed74",
   "outputs": [
    {
     "data": {
      "text/plain": [
       "Saving the dataset (0/1 shards):   0%|          | 0/25032 [00:00<?, ? examples/s]"
      ],
      "application/vnd.jupyter.widget-view+json": {
       "version_major": 2,
       "version_minor": 0,
       "model_id": "2e174d1bba3f4a2a812eebe6c50fd01c"
      }
     },
     "metadata": {},
     "output_type": "display_data"
    }
   ],
   "execution_count": 118
  },
  {
   "metadata": {
    "ExecuteTime": {
     "end_time": "2025-08-11T07:01:02.240028Z",
     "start_time": "2025-08-11T07:01:02.229032Z"
    }
   },
   "cell_type": "code",
   "source": "print(dataset2)",
   "id": "97be27017f7310f8",
   "outputs": [
    {
     "name": "stdout",
     "output_type": "stream",
     "text": [
      "DatasetDict({\n",
      "    train: Dataset({\n",
      "        features: ['labels', 'input_ids'],\n",
      "        num_rows: 17522\n",
      "    })\n",
      "    test: Dataset({\n",
      "        features: ['labels', 'input_ids'],\n",
      "        num_rows: 3755\n",
      "    })\n",
      "    valid: Dataset({\n",
      "        features: ['labels', 'input_ids'],\n",
      "        num_rows: 3755\n",
      "    })\n",
      "})\n"
     ]
    }
   ],
   "execution_count": 119
  },
  {
   "metadata": {
    "ExecuteTime": {
     "end_time": "2025-08-11T08:46:12.291254Z",
     "start_time": "2025-08-11T08:46:11.983084Z"
    }
   },
   "cell_type": "code",
   "source": "print(dataset2['train']['labels'][0])",
   "id": "c0669d614ac0cf24",
   "outputs": [
    {
     "name": "stdout",
     "output_type": "stream",
     "text": [
      "1\n"
     ]
    }
   ],
   "execution_count": 126
  },
  {
   "metadata": {
    "ExecuteTime": {
     "end_time": "2025-08-11T03:25:53.562795Z",
     "start_time": "2025-08-11T03:25:53.551824Z"
    }
   },
   "cell_type": "code",
   "source": [
    "#create_repo(\"token_ids_dataset_for_t5_finetuning\", repo_type=\"dataset\")\n",
    "#dataset.push_to_hub(\"hyunjaehyun/token_ids_dataset_for_t5_finetuning\")"
   ],
   "id": "33d1725e5255e176",
   "outputs": [],
   "execution_count": 94
  },
  {
   "metadata": {
    "ExecuteTime": {
     "end_time": "2025-08-11T08:47:18.578814Z",
     "start_time": "2025-08-11T08:47:18.570836Z"
    }
   },
   "cell_type": "code",
   "source": [
    "#create_repo(\"token_ids_dataset_for_t5_finetuning2\", repo_type=\"dataset\")\n",
    "#dataset2.push_to_hub(\"hyunjaehyun/token_ids_dataset_for_t5_finetuning2\")"
   ],
   "id": "e93dfc77f876af2c",
   "outputs": [],
   "execution_count": 129
  },
  {
   "metadata": {
    "ExecuteTime": {
     "end_time": "2025-08-11T08:46:22.201584Z",
     "start_time": "2025-08-11T08:46:21.799470Z"
    }
   },
   "cell_type": "code",
   "source": [
    "#from huggingface_hub import delete_repo\n",
    "#delete_repo(repo_id=\"hyunjaehyun/token_ids_dataset_for_t5_finetuning2\", repo_type=\"dataset\")"
   ],
   "id": "441cd5f06ed33b39",
   "outputs": [],
   "execution_count": 127
  },
  {
   "metadata": {},
   "cell_type": "code",
   "outputs": [],
   "source": "",
   "id": "b5d5596dae3af5a2",
   "execution_count": null
  },
  {
   "metadata": {
    "ExecuteTime": {
     "end_time": "2025-08-10T15:01:31.621896Z",
     "start_time": "2025-08-10T15:01:31.610130Z"
    }
   },
   "cell_type": "code",
   "source": "",
   "id": "e93cdbf5b046f6a2",
   "outputs": [],
   "execution_count": null
  },
  {
   "metadata": {},
   "cell_type": "code",
   "outputs": [],
   "execution_count": null,
   "source": "",
   "id": "35d5a7712b8d1ece"
  }
 ],
 "metadata": {
  "kernelspec": {
   "display_name": "PyTorchProject",
   "language": "python",
   "name": "pytorchproject"
  },
  "language_info": {
   "codemirror_mode": {
    "name": "ipython",
    "version": 2
   },
   "file_extension": ".py",
   "mimetype": "text/x-python",
   "name": "python",
   "nbconvert_exporter": "python",
   "pygments_lexer": "ipython2",
   "version": "2.7.6"
  }
 },
 "nbformat": 4,
 "nbformat_minor": 5
}
